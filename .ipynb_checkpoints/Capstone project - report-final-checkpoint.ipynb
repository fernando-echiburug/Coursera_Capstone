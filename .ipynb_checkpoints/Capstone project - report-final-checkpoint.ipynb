{
 "cells": [
  {
   "cell_type": "markdown",
   "metadata": {},
   "source": [
    "# 1. INTRODUCTION:   \n",
    "### 1.1. Background.\n",
    "We live in an age where information and communication technologies have\n",
    "positioned as an element of vital importance, both for personal and professionals.\n",
    "\n",
    "It is considered that “Chile is the Latin American country that best uses the technologies of\n",
    "information and communications (ICT) to promote social and economic development ”\n",
    "(Thierry Geiger, 2015), which has been reflected in a greater demand for these technologies.\n",
    "\n",
    "Regarding the personal sphere, “people have increased their level of consumption of ICT-related goods and services, mainly in relation to information services through the Internet and online purchases” (Achá & amp; Bravo, 2009) .\n",
    "\n",
    "On the other hand, with regard to the professional field, it is not only an issue at the level of large companies. SMEs have gradually incorporated these elements, hand in hand that \"companies have generally increased their presence on the Internet, from those that only seek to have a presence on the Internet, to those that implement complete e-commerce portals\" (Achá & Bravo, 2009). And it is not surprising, since there is evidence that \"the SMEs that made the most use of IT are the ones that obtained the greatest increase in their performance, in contrast to what happened with those that made the least use of IT\" (Oliva, Carvajal & Cataldo 2018), which is widely supported by the Marín econometric study, where it reaffirms that the greater the use of ICT, the higher the profitability presented by Chilean companies (2019).\n",
    "\n",
    "The ICT industry in Chile is on the rise and \"the relevance of this sector is that it provides an important part of the national economy\" (Gatica, 2018). This is why it is seeking to further boost the market, which implies unsatisfied demand.\n",
    "\n",
    "To satisfy this growing demand, the idea of ​​forming a company offering computer services arises. It will supply part of the growing demands.\n",
    "\n",
    "### 1.2. Description of the problem.\n",
    "However, it’s necessary a market study deeper. In this case a study about how to the current enterprises work will be useful. For this objective it will be used a machine learning algorithm, in specific a k-means clustering, to get the most relevant information about actual enterprises in this area.  \n",
    "\n",
    "All this will be useful to determine the influence of the location of the commercial premises when installing a web business.\n"
   ]
  },
  {
   "cell_type": "markdown",
   "metadata": {},
   "source": [
    "# 2. DATA.  \n",
    "### 2.1. SOURCES. \n",
    "About the data, first was necessary name of the states in Chile. Then, with the location of states, data downloaded were got with foursquare api. In particular, data about companies of Web services area in Chile, like:\n",
    "<ul>\n",
    "    <li>Name.</li>\n",
    "    <li>Location: latitude and longitude. The geogrphical location, essencial to get a conclusion about the clusters.</li>\n",
    "    <li>Category: The particular category. The project is about Web companies, therefore there are a lot of differents type of company lines.</li>\n",
    "    <li>Stats: This is information about what people think of the company.</li>\n",
    "    <li>Likes: How people evaluate the company.</li>\n",
    "</ul>  \n",
    "\n",
    "With this data the model is fitted, to determine a common characteristic among the companies.\n",
    "\n",
    "### 2.2. DATA CLEANING.  \n",
    "The process of cleaning the data is as follow:\n",
    "<ol>\n",
    "    <li>Even data was obtained with <b>search</b> method of foursquare API, there were data no relationated with the area of web companies. For this reason was necessary clean it, deleting the unnecessary data.</li>\n",
    "    <li>Besides, boolean data and data with labels were transformed to quantitative data.</li>\n",
    "    <li>Finally all the data was merged in a table.</li>\n",
    "</ol>"
   ]
  },
  {
   "cell_type": "markdown",
   "metadata": {},
   "source": [
    "# 3. METHODOLOGY.    \n",
    "To solve this problem it was used only one machine learning algorithm: K-Means Clustering. The step by step is the next:\n",
    "<ol>\n",
    "    <li>Selecting the relevant data: Not all data is important to the target of this project. Basicly all related with a evaluation of the company is relevant.</li>\n",
    "    <li>All the collected data was graphed on a map, to verified if they really belonged to Chile. First just the states. Then, the points obtained with foursaque API.</li>\n",
    "    <li>To get the model, primarily it was necessary an study to choose the correct parameters. This is solved with Elbow Method, particularly using the module yellowbrick. After this, the model was fitted with the data of any company.</li> \n",
    "</ol>  "
   ]
  },
  {
   "cell_type": "markdown",
   "metadata": {},
   "source": [
    "# 4. RESULTS."
   ]
  },
  {
   "cell_type": "markdown",
   "metadata": {},
   "source": [
    "Here it's possible notice that all state locations are right.\n",
    "<img src=\"../../Images/F1.png\">"
   ]
  },
  {
   "cell_type": "markdown",
   "metadata": {},
   "source": [
    "Now the company's locations are:\n",
    "<img src=\"../../Images/F2.png\">"
   ]
  },
  {
   "cell_type": "markdown",
   "metadata": {},
   "source": [
    "It's important notice that there's not information about all companies. This is a usual problem in Chile."
   ]
  },
  {
   "cell_type": "markdown",
   "metadata": {},
   "source": [
    "Here are the results to decide de quantity of clusters, using Elbow method. For this reason the number of cluster is 4.  \n",
    "<img src=\"../../Images/F6.png\">"
   ]
  },
  {
   "cell_type": "markdown",
   "metadata": {},
   "source": [
    "#### NORTH ZONE\n",
    "<img src=\"../../Images/F3.png\">"
   ]
  },
  {
   "cell_type": "markdown",
   "metadata": {},
   "source": [
    "#### CENTRAL ZONE\n",
    "<img src=\"../../Images/F4.png\">"
   ]
  },
  {
   "cell_type": "markdown",
   "metadata": {},
   "source": [
    "#### SOUTH ZONE\n",
    "<img src=\"../../Images/F5.png\">"
   ]
  },
  {
   "cell_type": "markdown",
   "metadata": {},
   "source": [
    "Some results about any cluster:\n",
    "<img src=\"../../Images/F7.png\">\n",
    "<img src=\"../../Images/F8.png\">\n",
    "<img src=\"../../Images/F9.png\">\n",
    "<img src=\"../../Images/F10.png\">"
   ]
  },
  {
   "cell_type": "markdown",
   "metadata": {},
   "source": [
    "# 5. DISCUSSION.\n",
    "Among the points to highlight are the following:\n",
    "- There is a tendency for companies belonging to the cluster with the highest approval to be found in the center of the country.\n",
    "- At the ends of the country are those clusters with the lowest scores.\n",
    "- In addition, there is a lack of diversification in terms of items. In general, web design companies themselves predominate, while in the center there is more diversity, with all kinds of companies in the web sector. This is particularly interesting, since one of the greatest difficulties with companies located at the extremes is the difficulty of meeting between the bidders and the plaintiffs, which means that the sector to which the company is dedicated is 100% online."
   ]
  },
  {
   "cell_type": "markdown",
   "metadata": {},
   "source": [
    "# 6. CONCLUSION.  \n",
    "\n",
    "A company that wants to enter this market, and that wants to use agile methodologies, that contemplate a higher level of interaction, must take into account the location. Although the option of video conferencing exists, it is not apparently what the results reflect. The trend is for companies that need meetings on both sides to choose central locations.\n",
    "\n",
    "As for the model, it could be improved by adding more data. For example, it would be interesting to see the effect of location and income. Does the business premises (legal location of the company) influence its performance? Also the volume of clients could be interesting to add. In short, it is a model that allows you to have a context regarding what it implies, but if you want to quantify the decision or not to invest in a more central business premises, it is a must."
   ]
  }
 ],
 "metadata": {
  "kernelspec": {
   "display_name": "Python 3",
   "language": "python",
   "name": "python3"
  },
  "language_info": {
   "codemirror_mode": {
    "name": "ipython",
    "version": 3
   },
   "file_extension": ".py",
   "mimetype": "text/x-python",
   "name": "python",
   "nbconvert_exporter": "python",
   "pygments_lexer": "ipython3",
   "version": "3.7.6"
  }
 },
 "nbformat": 4,
 "nbformat_minor": 4
}
