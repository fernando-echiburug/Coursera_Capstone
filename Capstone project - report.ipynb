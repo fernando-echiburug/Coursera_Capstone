{
 "cells": [
  {
   "cell_type": "markdown",
   "metadata": {},
   "source": [
    "# BACKGROUND AND DESCRIPTION OF THE PROBLEM.\n",
    "We live in an age where information and communication technologies have\n",
    "positioned as an element of vital importance, both for personal and professionals.\n",
    "\n",
    "It is considered that “Chile is the Latin American country that best uses the technologies of\n",
    "information and communications (ICT) to promote social and economic development ”\n",
    "(Thierry Geiger, 2015), which has been reflected in a greater demand for these technologies.\n",
    "\n",
    "Regarding the personal sphere, “people have increased their level of consumption of ICT-related goods and services, mainly in relation to information services through the Internet and online purchases” (Achá & amp; Bravo, 2009) .\n",
    "\n",
    "On the other hand, with regard to the professional field, it is not only an issue at the level of large companies. SMEs have gradually incorporated these elements, hand in hand that \"companies have generally increased their presence on the Internet, from those that only seek to have a presence on the Internet, to those that implement complete e-commerce portals\" (Achá & Bravo, 2009). And it is not surprising, since there is evidence that \"the SMEs that made the most use of IT are the ones that obtained the greatest increase in their performance, in contrast to what happened with those that made the least use of IT\" (Oliva, Carvajal & Cataldo 2018), which is widely supported by the Marín econometric study, where it reaffirms that the greater the use of ICT, the higher the profitability presented by Chilean companies (2019).\n",
    "\n",
    "The ICT industry in Chile is on the rise and \"the relevance of this sector is that it provides an important part of the national economy\" (Gatica, 2018). This is why it is seeking to further boost the market, which implies unsatisfied demand.\n",
    "\n",
    "To satisfy this growing demand, the idea of ​​forming a company offering computer services arises. It will supply part of the growing demands.\n",
    "\n",
    "However, it’s necessary a market study deeper. In this case a study about how to the current enterprises work will be useful. For this objective it will be used a machine learning algorithm, in specific a k-means clustering, to get the most relevant information about actual enterprises in this area.\n"
   ]
  },
  {
   "cell_type": "markdown",
   "metadata": {},
   "source": [
    "# DATA.\n",
    "About the data, it’s going to be used foursquare api data about companies of Web services area in Chile. In particular:\n",
    "<ul>\n",
    "    <li>Name.</li>\n",
    "    <li>Location: latitude and longitude. These are going to be used to get the geogrphical location, essencial to get a conclusion about the clusters.</li>\n",
    "    <li>Category: The particular category. The project is about Web companies, therefore there will be a lot of differents kind of company lines.</li>\n",
    "    <li>Stats: This is information about what people think of the company.</li>\n",
    "    <li>Likes: How people evaluate the company.</li>\n",
    "</ul>\n",
    "With this data the model is going to be fit, to determine a common characteristic among the companies.\n"
   ]
  }
 ],
 "metadata": {
  "kernelspec": {
   "display_name": "Python 3",
   "language": "python",
   "name": "python3"
  },
  "language_info": {
   "codemirror_mode": {
    "name": "ipython",
    "version": 3
   },
   "file_extension": ".py",
   "mimetype": "text/x-python",
   "name": "python",
   "nbconvert_exporter": "python",
   "pygments_lexer": "ipython3",
   "version": "3.7.6"
  }
 },
 "nbformat": 4,
 "nbformat_minor": 4
}
